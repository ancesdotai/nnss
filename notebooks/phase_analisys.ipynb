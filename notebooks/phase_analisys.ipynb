{
 "cells": [
  {
   "cell_type": "code",
   "execution_count": 4,
   "metadata": {},
   "outputs": [
    {
     "name": "stderr",
     "output_type": "stream",
     "text": [
      "\"pip\" no se reconoce como un comando interno o externo,\n",
      "programa o archivo por lotes ejecutable.\n",
      "\"pip\" no se reconoce como un comando interno o externo,\n",
      "programa o archivo por lotes ejecutable.\n"
     ]
    }
   ],
   "source": [
    "import numpy as np\n",
    "import soundfile as sf\n",
    "import tensorflow as tf\n",
    "import matplotlib.pyplot as plt\n",
    "from ipywidgets import interact\n",
    "\n",
    "with open('data/bach_test_short.wav', 'rb') as f:\n",
    "    data, samplerate = sf.read(f)\n",
    "\n",
    "frame_step=1\n",
    "frame_length=2048\n",
    "steps=256\n",
    "len_chunk=frame_length+(frame_step*(steps-1))\n",
    "\n",
    "spectrogram=tf.signal.stft(data[100000:100000+len_chunk],frame_length=frame_length,frame_step=frame_step,window_fn=tf.signal.hann_window).numpy()\n",
    "\n",
    "def ances_normalization(spec,power=1):\n",
    "    amp=np.power(np.abs(spec),power)\n",
    "    angle=np.angle(spec)\n",
    "    return amp*np.exp(1j*angle)\n",
    "\n",
    "\n",
    "def plot_to_file(bin):\n",
    "    #two subplots in one row. delete border around the plots\n",
    "    fig, (ax1, ax2) = plt.subplots(1, 2, figsize=(10,5),facecolor='w', edgecolor='w')\n",
    "    ax1.plot(np.sin(np.angle(spectrogram[:,bin])))\n",
    "    ax1.legend(['sin(angle(bin:'+str(bin)+'))'],loc='upper left',prop={'size': 10})\n",
    "    ax2.imshow(np.abs(ances_normalization(spectrogram,1/4)).squeeze().T,aspect='auto', origin='lower')\n",
    "    ax2.arrow(-40,bin,30,0,head_width=10, head_length=10, fc='k', ec='k')\n",
    "\n",
    "    \n",
    "interact(plot_to_file,bin=(0,1023,1))\n",
    "\n"
   ]
  }
 ],
 "metadata": {
  "kernelspec": {
   "display_name": "gputest",
   "language": "python",
   "name": "gputest"
  },
  "language_info": {
   "codemirror_mode": {
    "name": "ipython",
    "version": 3
   },
   "file_extension": ".py",
   "mimetype": "text/x-python",
   "name": "python",
   "nbconvert_exporter": "python",
   "pygments_lexer": "ipython3",
   "version": "3.9.7"
  },
  "orig_nbformat": 4,
  "vscode": {
   "interpreter": {
    "hash": "509e5a6ff457a5d849d92195893eb0633f88ea61ea348d1a2531f9db8e20e635"
   }
  }
 },
 "nbformat": 4,
 "nbformat_minor": 2
}
